{
 "cells": [
  {
   "cell_type": "code",
   "execution_count": 1,
   "id": "617d99d8-6ea3-484e-ba67-fca43b33dc7b",
   "metadata": {},
   "outputs": [],
   "source": [
    "#Q1. what is multithreading in python? why is it used? Name the module used to handle threads in python.\n",
    "\n",
    "#Q2. why threading module used? write the use of the following functions.\n",
    "# 1 activeCount()\n",
    "# 2 currentThread()\n",
    "# 3 enumerate()\n",
    "\n",
    "\n",
    "#Q3. Explain the following functions.\n",
    "# 1 run()\n",
    "# 2 start()\n",
    "# 3 join()\n",
    "# 4 isAlive()\n",
    "\n",
    "\n",
    "#Q4. write a python program to create two threads. Thread one must print the list of squares and thread \n",
    "# two must print the list of cubes.\n",
    "\n",
    "#Q5.State advantages and disadvantages of multithreading.\n",
    "\n",
    "#Q6. Explain deadlocks and race conditions."
   ]
  },
  {
   "cell_type": "code",
   "execution_count": null,
   "id": "993a784a-8f68-4323-a230-cd05be2bac5d",
   "metadata": {},
   "outputs": [],
   "source": [
    "#Q1. what is multithreading in python? why is it used? Name the module used to handle threads in python."
   ]
  },
  {
   "cell_type": "code",
   "execution_count": 2,
   "id": "8d3e5491-9492-4423-adae-53e5eaa0f141",
   "metadata": {},
   "outputs": [],
   "source": [
    "# Multithreading in Python refers to the ability to run multiple threads (independent flows of execution) within a single program. \n",
    "# A thread is a lightweight process that can run concurrently with other threads within the same process. \n",
    "# Multithreading is used to improve the performance of a program by utilizing multiple CPU cores and increasing parallelism.\n",
    "\n",
    "# In Python, multithreading is often used in applications that require concurrent input/output operations, such as network servers, web servers, and GUI applications. \n",
    "# By using multiple threads, these applications can handle multiple requests simultaneously, allowing for faster response times and a better user experience.\n",
    "\n",
    "# The module used to handle threads in Python is called threading. This module provides a simple way to create and manage threads in Python. \n",
    "# It includes functions for starting and stopping threads, as well as for synchronizing data between threads. \n",
    "# The threading module also provides support for locks, events, and semaphores, which can be used to control access to shared resources and prevent race conditions."
   ]
  },
  {
   "cell_type": "code",
   "execution_count": 3,
   "id": "e0b12409-8230-418a-8363-3688a5f94e6e",
   "metadata": {},
   "outputs": [],
   "source": [
    "#Q2. why threading module used? write the use of the following functions.\n",
    "# 1 activeCount()\n",
    "# 2 currentThread()\n",
    "# 3 enumerate()"
   ]
  },
  {
   "cell_type": "code",
   "execution_count": 4,
   "id": "f385cfab-4a2e-4ffd-bce9-4043e60c158d",
   "metadata": {},
   "outputs": [],
   "source": [
    "# The threading module in Python is used to implement concurrent programming, where multiple threads of execution are run concurrently within a single process.\n",
    "\n",
    "# activeCount(): This function is used to return the number of active threads in the current thread's ThreadGroup. \n",
    "# It is a useful function for debugging and monitoring purposes, as it allows you to keep track of how many threads are running in your program at any given time.\n",
    "\n",
    "# currentThread(): This function returns a reference to the currently executing thread object. This can be useful in situations where you need to access \n",
    "# the thread object from within the thread itself, such as to check its status or modify its attributes.\n",
    "\n",
    "# enumerate(): This function is used to return a list of all currently active Thread objects in the current thread's ThreadGroup. \n",
    "# It is a useful function for debugging and monitoring purposes, as it allows you to iterate over all the threads in your program and perform operations on \n",
    "# them (such as checking their status or terminating them). The returned list includes both daemon and non-daemon threads."
   ]
  },
  {
   "cell_type": "code",
   "execution_count": 5,
   "id": "4b44aaab-21ae-4cc2-a999-d57f39751d40",
   "metadata": {},
   "outputs": [],
   "source": [
    "#Q3. Explain the following functions.\n",
    "# 1 run()\n",
    "# 2 start()\n",
    "# 3 join()\n",
    "# 4 isAlive()"
   ]
  },
  {
   "cell_type": "code",
   "execution_count": 6,
   "id": "7e491447-33b2-4b4a-b6e9-255a7d6faa78",
   "metadata": {},
   "outputs": [],
   "source": [
    "# run(): This function is called when the thread's start() method is invoked. It represents the code that will be executed in the thread. \n",
    "# This function should be overridden in a subclass to implement the desired behavior of the thread.\n",
    "\n",
    "# start(): This function starts the execution of the thread. It will call the run() method of the thread in a separate thread of execution. \n",
    "# Once the thread has been started, it can't be started again. If you want to start a new thread, you will need to create a new instance of the thread class.\n",
    "\n",
    "# join(): This function blocks the calling thread until the thread whose join() method is called has terminated. If the optional timeout parameter is specified, \n",
    "# it will wait for the specified amount of time for the thread to terminate. If the thread has not terminated within the specified timeout, the join() function returns anyway.\n",
    "\n",
    "# isAlive(): This function returns a boolean value indicating whether or not the thread is currently running. Specifically, \n",
    "# it returns True if the thread has been started but has not yet completed its run method, and False otherwise."
   ]
  },
  {
   "cell_type": "code",
   "execution_count": 7,
   "id": "157babb8-0eb8-48db-b22a-b9be30fa67e2",
   "metadata": {},
   "outputs": [],
   "source": [
    "#Q4. write a python program to create two threads. Thread one must print the list of squares and thread \n",
    "# two must print the list of cubes."
   ]
  },
  {
   "cell_type": "code",
   "execution_count": 9,
   "id": "e38fed8c-ade5-4c8f-91a6-174258cd4184",
   "metadata": {},
   "outputs": [
    {
     "name": "stdout",
     "output_type": "stream",
     "text": [
      "1 squared is 1\n",
      "2 squared is 4\n",
      "3 squared is 9\n",
      "4 squared is 16\n",
      "5 squared is 25\n",
      "6 squared is 36\n",
      "7 squared is 49\n",
      "8 squared is 64\n",
      "9 squared is 81\n",
      "10 squared is 100\n",
      "1 cubed is 1\n",
      "2 cubed is 8\n",
      "3 cubed is 27\n",
      "4 cubed is 64\n",
      "5 cubed is 125\n",
      "6 cubed is 216\n",
      "7 cubed is 343\n",
      "8 cubed is 512\n",
      "9 cubed is 729\n",
      "10 cubed is 1000\n"
     ]
    }
   ],
   "source": [
    "import threading\n",
    "\n",
    "def print_squares():\n",
    "    for i in range(1, 11):\n",
    "        print(f\"{i} squared is {i ** 2}\")\n",
    "\n",
    "def print_cubes():\n",
    "    for i in range(1, 11):\n",
    "        print(f\"{i} cubed is {i ** 3}\")\n",
    "\n",
    "# create the threads\n",
    "t1 = threading.Thread(target=print_squares)\n",
    "t2 = threading.Thread(target=print_cubes)\n",
    "\n",
    "# start the threads\n",
    "t1.start()\n",
    "t2.start()\n",
    "\n",
    "# wait for the threads to finish\n",
    "t1.join()\n",
    "t2.join()\n"
   ]
  },
  {
   "cell_type": "code",
   "execution_count": 10,
   "id": "ec067a8c-a51a-409d-a4ea-3155213d930b",
   "metadata": {},
   "outputs": [],
   "source": [
    "#Q5.State advantages and disadvantages of multithreading."
   ]
  },
  {
   "cell_type": "code",
   "execution_count": 11,
   "id": "0ba0a58c-6ef9-4980-9a48-c939190eb5b6",
   "metadata": {},
   "outputs": [],
   "source": [
    "# Multithreading is a technique used in computing to achieve multitasking by dividing a single process into multiple threads of execution. \n",
    "# Each thread can execute concurrently and independently, sharing the same memory space and resources. This approach has several advantages and disadvantages:\n",
    "\n",
    "# Advantages:\n",
    "\n",
    "# Improved performance: Multithreading can improve performance by allowing different parts of a program to execute concurrently. \n",
    "# This can make programs run faster and more efficiently.\n",
    "\n",
    "# Increased responsiveness: Multithreading allows a program to respond to user input or events while other threads are running. \n",
    "# This can make the program more responsive and user-friendly.\n",
    "\n",
    "# Resource sharing: Threads can share resources such as memory, files, and network connections, reducing the overall resource usage of the program.\n",
    "\n",
    "# Modular design: Multithreading can be used to implement a modular design, where different parts of a program are executed in different threads.\n",
    "# This can make the program easier to maintain and modify.\n",
    "\n",
    "# Disadvantages:\n",
    "\n",
    "# Increased complexity: Multithreading can increase the complexity of a program, making it more difficult to develop and debug.\n",
    "\n",
    "# Synchronization issues: When multiple threads access shared resources, synchronization issues can arise, leading to errors such as race conditions, deadlocks, and livelocks.\n",
    "\n",
    "# Increased resource usage: Multithreading can increase resource usage, particularly memory usage, because each thread requires its own stack and thread-local storage.\n",
    "\n",
    "# Difficulty of testing: Testing multithreaded programs can be difficult, as it is difficult to reproduce and debug race conditions and other synchronization issues.\n",
    "\n",
    "# Platform dependence: Multithreading is implemented differently on different platforms, making it difficult to write portable multithreaded programs.\n",
    "\n",
    "# In summary, multithreading can provide significant performance and responsiveness benefits, but also introduces complexity and synchronization issues that need to be carefully managed."
   ]
  },
  {
   "cell_type": "code",
   "execution_count": 12,
   "id": "42f6bdf2-83fa-4f76-bc6e-0fb800d68eb9",
   "metadata": {},
   "outputs": [],
   "source": [
    "#Q6. Explain deadlocks and race conditions."
   ]
  },
  {
   "cell_type": "code",
   "execution_count": null,
   "id": "28a06202-4e0d-46f8-893c-e8846ac87504",
   "metadata": {},
   "outputs": [],
   "source": [
    "# Deadlocks and race conditions are two common problems that can occur in computer systems when multiple processes or threads are competing for shared resources.\n",
    "\n",
    "# A deadlock occurs when two or more processes or threads are blocked, each waiting for the other to release a resource that it needs to continue. In other words, \n",
    "# each process is holding a resource that the other process needs, so neither can make progress. Deadlocks can occur when resources are not properly managed or allocated, \n",
    "# or when there is a lack of communication between processes.\n",
    "\n",
    "# A race condition, on the other hand, occurs when two or more processes or threads access a shared resource simultaneously,\n",
    "# and the outcome depends on the order in which the accesses occur. This can result in unexpected behavior or errors. \n",
    "# Race conditions can occur when shared resources are not properly synchronized or when there is a lack of mutual exclusion.\n",
    "\n",
    "# Both deadlocks and race conditions can be difficult to detect and resolve, and can lead to system crashes, data corruption, \n",
    "# or other serious problems. To avoid these issues, it is important to design systems with proper synchronization mechanisms and resource allocation strategies. \n",
    "# This may involve the use of locking, signaling, or other techniques to ensure that processes and threads are able to access shared resources in a safe and controlled manner."
   ]
  }
 ],
 "metadata": {
  "kernelspec": {
   "display_name": "Python 3 (ipykernel)",
   "language": "python",
   "name": "python3"
  },
  "language_info": {
   "codemirror_mode": {
    "name": "ipython",
    "version": 3
   },
   "file_extension": ".py",
   "mimetype": "text/x-python",
   "name": "python",
   "nbconvert_exporter": "python",
   "pygments_lexer": "ipython3",
   "version": "3.10.8"
  }
 },
 "nbformat": 4,
 "nbformat_minor": 5
}
